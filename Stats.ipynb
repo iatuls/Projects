{
 "cells": [
  {
   "cell_type": "code",
   "execution_count": 1,
   "id": "9d6d2711-32af-40d4-98d1-60014ebe3a8f",
   "metadata": {},
   "outputs": [],
   "source": [
    "import pandas as pd\n",
    "import seaborn as sns\n",
    "import matplotlib.pyplot as plt"
   ]
  },
  {
   "cell_type": "code",
   "execution_count": 2,
   "id": "16735ee7-09e6-4568-90a9-f8dd3f36fbb2",
   "metadata": {},
   "outputs": [],
   "source": [
    "suicide = pd.read_csv('Suicides.csv')"
   ]
  },
  {
   "cell_type": "code",
   "execution_count": 3,
   "id": "13e78a8f-a7a3-4246-a6bd-049d7d067eb2",
   "metadata": {},
   "outputs": [
    {
     "data": {
      "text/html": [
       "<div>\n",
       "<style scoped>\n",
       "    .dataframe tbody tr th:only-of-type {\n",
       "        vertical-align: middle;\n",
       "    }\n",
       "\n",
       "    .dataframe tbody tr th {\n",
       "        vertical-align: top;\n",
       "    }\n",
       "\n",
       "    .dataframe thead th {\n",
       "        text-align: right;\n",
       "    }\n",
       "</style>\n",
       "<table border=\"1\" class=\"dataframe\">\n",
       "  <thead>\n",
       "    <tr style=\"text-align: right;\">\n",
       "      <th></th>\n",
       "      <th>State</th>\n",
       "      <th>Year</th>\n",
       "      <th>Type_code</th>\n",
       "      <th>Type</th>\n",
       "      <th>Gender</th>\n",
       "      <th>Age_group</th>\n",
       "      <th>Total</th>\n",
       "    </tr>\n",
       "  </thead>\n",
       "  <tbody>\n",
       "    <tr>\n",
       "      <th>0</th>\n",
       "      <td>A &amp; N Islands</td>\n",
       "      <td>2001</td>\n",
       "      <td>Causes</td>\n",
       "      <td>Illness (Aids/STD)</td>\n",
       "      <td>Female</td>\n",
       "      <td>0-14</td>\n",
       "      <td>0</td>\n",
       "    </tr>\n",
       "    <tr>\n",
       "      <th>1</th>\n",
       "      <td>A &amp; N Islands</td>\n",
       "      <td>2001</td>\n",
       "      <td>Causes</td>\n",
       "      <td>Bankruptcy or Sudden change in Economic</td>\n",
       "      <td>Female</td>\n",
       "      <td>0-14</td>\n",
       "      <td>0</td>\n",
       "    </tr>\n",
       "    <tr>\n",
       "      <th>2</th>\n",
       "      <td>A &amp; N Islands</td>\n",
       "      <td>2001</td>\n",
       "      <td>Causes</td>\n",
       "      <td>Cancellation/Non-Settlement of Marriage</td>\n",
       "      <td>Female</td>\n",
       "      <td>0-14</td>\n",
       "      <td>0</td>\n",
       "    </tr>\n",
       "    <tr>\n",
       "      <th>3</th>\n",
       "      <td>A &amp; N Islands</td>\n",
       "      <td>2001</td>\n",
       "      <td>Causes</td>\n",
       "      <td>Physical Abuse (Rape/Incest Etc.)</td>\n",
       "      <td>Female</td>\n",
       "      <td>0-14</td>\n",
       "      <td>0</td>\n",
       "    </tr>\n",
       "    <tr>\n",
       "      <th>4</th>\n",
       "      <td>A &amp; N Islands</td>\n",
       "      <td>2001</td>\n",
       "      <td>Causes</td>\n",
       "      <td>Dowry Dispute</td>\n",
       "      <td>Female</td>\n",
       "      <td>0-14</td>\n",
       "      <td>0</td>\n",
       "    </tr>\n",
       "    <tr>\n",
       "      <th>...</th>\n",
       "      <td>...</td>\n",
       "      <td>...</td>\n",
       "      <td>...</td>\n",
       "      <td>...</td>\n",
       "      <td>...</td>\n",
       "      <td>...</td>\n",
       "      <td>...</td>\n",
       "    </tr>\n",
       "    <tr>\n",
       "      <th>237514</th>\n",
       "      <td>West Bengal</td>\n",
       "      <td>2012</td>\n",
       "      <td>Social_Status</td>\n",
       "      <td>Seperated</td>\n",
       "      <td>Male</td>\n",
       "      <td>0-100+</td>\n",
       "      <td>149</td>\n",
       "    </tr>\n",
       "    <tr>\n",
       "      <th>237515</th>\n",
       "      <td>West Bengal</td>\n",
       "      <td>2012</td>\n",
       "      <td>Social_Status</td>\n",
       "      <td>Widowed/Widower</td>\n",
       "      <td>Male</td>\n",
       "      <td>0-100+</td>\n",
       "      <td>233</td>\n",
       "    </tr>\n",
       "    <tr>\n",
       "      <th>237516</th>\n",
       "      <td>West Bengal</td>\n",
       "      <td>2012</td>\n",
       "      <td>Social_Status</td>\n",
       "      <td>Married</td>\n",
       "      <td>Male</td>\n",
       "      <td>0-100+</td>\n",
       "      <td>5451</td>\n",
       "    </tr>\n",
       "    <tr>\n",
       "      <th>237517</th>\n",
       "      <td>West Bengal</td>\n",
       "      <td>2012</td>\n",
       "      <td>Social_Status</td>\n",
       "      <td>Divorcee</td>\n",
       "      <td>Male</td>\n",
       "      <td>0-100+</td>\n",
       "      <td>189</td>\n",
       "    </tr>\n",
       "    <tr>\n",
       "      <th>237518</th>\n",
       "      <td>West Bengal</td>\n",
       "      <td>2012</td>\n",
       "      <td>Social_Status</td>\n",
       "      <td>Never Married</td>\n",
       "      <td>Male</td>\n",
       "      <td>0-100+</td>\n",
       "      <td>2658</td>\n",
       "    </tr>\n",
       "  </tbody>\n",
       "</table>\n",
       "<p>237519 rows × 7 columns</p>\n",
       "</div>"
      ],
      "text/plain": [
       "                State  Year      Type_code  \\\n",
       "0       A & N Islands  2001         Causes   \n",
       "1       A & N Islands  2001         Causes   \n",
       "2       A & N Islands  2001         Causes   \n",
       "3       A & N Islands  2001         Causes   \n",
       "4       A & N Islands  2001         Causes   \n",
       "...               ...   ...            ...   \n",
       "237514    West Bengal  2012  Social_Status   \n",
       "237515    West Bengal  2012  Social_Status   \n",
       "237516    West Bengal  2012  Social_Status   \n",
       "237517    West Bengal  2012  Social_Status   \n",
       "237518    West Bengal  2012  Social_Status   \n",
       "\n",
       "                                           Type  Gender Age_group  Total  \n",
       "0                            Illness (Aids/STD)  Female      0-14      0  \n",
       "1       Bankruptcy or Sudden change in Economic  Female      0-14      0  \n",
       "2       Cancellation/Non-Settlement of Marriage  Female      0-14      0  \n",
       "3             Physical Abuse (Rape/Incest Etc.)  Female      0-14      0  \n",
       "4                                 Dowry Dispute  Female      0-14      0  \n",
       "...                                         ...     ...       ...    ...  \n",
       "237514                                Seperated    Male    0-100+    149  \n",
       "237515                          Widowed/Widower    Male    0-100+    233  \n",
       "237516                                  Married    Male    0-100+   5451  \n",
       "237517                                 Divorcee    Male    0-100+    189  \n",
       "237518                            Never Married    Male    0-100+   2658  \n",
       "\n",
       "[237519 rows x 7 columns]"
      ]
     },
     "execution_count": 3,
     "metadata": {},
     "output_type": "execute_result"
    }
   ],
   "source": [
    "suicide"
   ]
  },
  {
   "cell_type": "code",
   "execution_count": 55,
   "id": "13181a85-4595-4f81-b8bf-12f8a6542847",
   "metadata": {},
   "outputs": [
    {
     "data": {
      "text/plain": [
       "(237519, 7)"
      ]
     },
     "execution_count": 55,
     "metadata": {},
     "output_type": "execute_result"
    }
   ],
   "source": [
    "suicide.shape"
   ]
  },
  {
   "cell_type": "code",
   "execution_count": 56,
   "id": "dff7fd0b-d9c5-4ea2-8c6a-19c52d31842e",
   "metadata": {},
   "outputs": [
    {
     "data": {
      "text/plain": [
       "13071734"
      ]
     },
     "execution_count": 56,
     "metadata": {},
     "output_type": "execute_result"
    }
   ],
   "source": [
    "suicide['Total'].sum()"
   ]
  },
  {
   "cell_type": "markdown",
   "id": "9a590b0d-0843-4e39-8485-d2ac6176335d",
   "metadata": {},
   "source": [
    "# 1,30,71,734 people commited suicide in between 2001 to 2012."
   ]
  },
  {
   "cell_type": "code",
   "execution_count": null,
   "id": "f46e875e-7dfc-4dd3-b0ab-dd332c75076c",
   "metadata": {},
   "outputs": [],
   "source": []
  },
  {
   "cell_type": "code",
   "execution_count": 9,
   "id": "6c2eff6d-724e-4859-aac6-f9fe4ee3b69e",
   "metadata": {},
   "outputs": [
    {
     "name": "stderr",
     "output_type": "stream",
     "text": [
      "/tmp/ipykernel_1111/287761025.py:1: FutureWarning: The default value of numeric_only in DataFrameGroupBy.sum is deprecated. In a future version, numeric_only will default to False. Either specify numeric_only or select only columns which should be valid for the function.\n",
      "  Pivot_Table=suicide.pivot_table(index='Age_group',columns='Type',aggfunc='sum')\n"
     ]
    }
   ],
   "source": [
    "Pivot_Table=suicide.pivot_table(index='Age_group',columns='Type',aggfunc='sum')"
   ]
  },
  {
   "cell_type": "code",
   "execution_count": 10,
   "id": "1bf4a8e3-52bf-4eb4-9c4f-508479497be7",
   "metadata": {},
   "outputs": [
    {
     "data": {
      "text/html": [
       "<div>\n",
       "<style scoped>\n",
       "    .dataframe tbody tr th:only-of-type {\n",
       "        vertical-align: middle;\n",
       "    }\n",
       "\n",
       "    .dataframe tbody tr th {\n",
       "        vertical-align: top;\n",
       "    }\n",
       "\n",
       "    .dataframe thead tr th {\n",
       "        text-align: left;\n",
       "    }\n",
       "\n",
       "    .dataframe thead tr:last-of-type th {\n",
       "        text-align: right;\n",
       "    }\n",
       "</style>\n",
       "<table border=\"1\" class=\"dataframe\">\n",
       "  <thead>\n",
       "    <tr>\n",
       "      <th></th>\n",
       "      <th colspan=\"10\" halign=\"left\">Total</th>\n",
       "      <th>...</th>\n",
       "      <th colspan=\"10\" halign=\"left\">Year</th>\n",
       "    </tr>\n",
       "    <tr>\n",
       "      <th>Type</th>\n",
       "      <th>Bankruptcy or Sudden change in Economic</th>\n",
       "      <th>Bankruptcy or Sudden change in Economic Status</th>\n",
       "      <th>By Consuming Insecticides</th>\n",
       "      <th>By Consuming Other Poison</th>\n",
       "      <th>By Drowning</th>\n",
       "      <th>By Fire-Arms</th>\n",
       "      <th>By Fire/Self Immolation</th>\n",
       "      <th>By Hanging</th>\n",
       "      <th>By Jumping from (Building)</th>\n",
       "      <th>By Jumping from (Other sites)</th>\n",
       "      <th>...</th>\n",
       "      <th>Retired Person</th>\n",
       "      <th>Self-employed (Business activity)</th>\n",
       "      <th>Seperated</th>\n",
       "      <th>Service (Government)</th>\n",
       "      <th>Service (Private)</th>\n",
       "      <th>Student</th>\n",
       "      <th>Suspected/Illicit Relation</th>\n",
       "      <th>Unemployed</th>\n",
       "      <th>Unemployment</th>\n",
       "      <th>Widowed/Widower</th>\n",
       "    </tr>\n",
       "    <tr>\n",
       "      <th>Age_group</th>\n",
       "      <th></th>\n",
       "      <th></th>\n",
       "      <th></th>\n",
       "      <th></th>\n",
       "      <th></th>\n",
       "      <th></th>\n",
       "      <th></th>\n",
       "      <th></th>\n",
       "      <th></th>\n",
       "      <th></th>\n",
       "      <th></th>\n",
       "      <th></th>\n",
       "      <th></th>\n",
       "      <th></th>\n",
       "      <th></th>\n",
       "      <th></th>\n",
       "      <th></th>\n",
       "      <th></th>\n",
       "      <th></th>\n",
       "      <th></th>\n",
       "      <th></th>\n",
       "    </tr>\n",
       "  </thead>\n",
       "  <tbody>\n",
       "    <tr>\n",
       "      <th>0-100+</th>\n",
       "      <td>NaN</td>\n",
       "      <td>NaN</td>\n",
       "      <td>NaN</td>\n",
       "      <td>NaN</td>\n",
       "      <td>NaN</td>\n",
       "      <td>NaN</td>\n",
       "      <td>NaN</td>\n",
       "      <td>NaN</td>\n",
       "      <td>NaN</td>\n",
       "      <td>NaN</td>\n",
       "      <td>...</td>\n",
       "      <td>NaN</td>\n",
       "      <td>NaN</td>\n",
       "      <td>1829928.0</td>\n",
       "      <td>NaN</td>\n",
       "      <td>NaN</td>\n",
       "      <td>NaN</td>\n",
       "      <td>NaN</td>\n",
       "      <td>NaN</td>\n",
       "      <td>NaN</td>\n",
       "      <td>1829928.0</td>\n",
       "    </tr>\n",
       "    <tr>\n",
       "      <th>0-14</th>\n",
       "      <td>107.0</td>\n",
       "      <td>17.0</td>\n",
       "      <td>4980.0</td>\n",
       "      <td>4330.0</td>\n",
       "      <td>4825.0</td>\n",
       "      <td>178.0</td>\n",
       "      <td>2506.0</td>\n",
       "      <td>7292.0</td>\n",
       "      <td>243.0</td>\n",
       "      <td>298.0</td>\n",
       "      <td>...</td>\n",
       "      <td>1685460.0</td>\n",
       "      <td>1685460.0</td>\n",
       "      <td>NaN</td>\n",
       "      <td>1685460.0</td>\n",
       "      <td>1685460.0</td>\n",
       "      <td>1685460.0</td>\n",
       "      <td>1685460.0</td>\n",
       "      <td>1685460.0</td>\n",
       "      <td>1685460.0</td>\n",
       "      <td>NaN</td>\n",
       "    </tr>\n",
       "    <tr>\n",
       "      <th>15-29</th>\n",
       "      <td>5796.0</td>\n",
       "      <td>469.0</td>\n",
       "      <td>99949.0</td>\n",
       "      <td>80860.0</td>\n",
       "      <td>32457.0</td>\n",
       "      <td>2355.0</td>\n",
       "      <td>54902.0</td>\n",
       "      <td>169622.0</td>\n",
       "      <td>2459.0</td>\n",
       "      <td>2659.0</td>\n",
       "      <td>...</td>\n",
       "      <td>1685460.0</td>\n",
       "      <td>1685460.0</td>\n",
       "      <td>NaN</td>\n",
       "      <td>1685460.0</td>\n",
       "      <td>1685460.0</td>\n",
       "      <td>1685460.0</td>\n",
       "      <td>1685460.0</td>\n",
       "      <td>1685460.0</td>\n",
       "      <td>1685460.0</td>\n",
       "      <td>NaN</td>\n",
       "    </tr>\n",
       "    <tr>\n",
       "      <th>30-44</th>\n",
       "      <td>13582.0</td>\n",
       "      <td>1093.0</td>\n",
       "      <td>92554.0</td>\n",
       "      <td>78361.0</td>\n",
       "      <td>31318.0</td>\n",
       "      <td>2261.0</td>\n",
       "      <td>43458.0</td>\n",
       "      <td>159188.0</td>\n",
       "      <td>2951.0</td>\n",
       "      <td>2927.0</td>\n",
       "      <td>...</td>\n",
       "      <td>1685460.0</td>\n",
       "      <td>1685460.0</td>\n",
       "      <td>NaN</td>\n",
       "      <td>1685460.0</td>\n",
       "      <td>1685460.0</td>\n",
       "      <td>1685460.0</td>\n",
       "      <td>1685460.0</td>\n",
       "      <td>1685460.0</td>\n",
       "      <td>1685460.0</td>\n",
       "      <td>NaN</td>\n",
       "    </tr>\n",
       "    <tr>\n",
       "      <th>45-59</th>\n",
       "      <td>10421.0</td>\n",
       "      <td>798.0</td>\n",
       "      <td>56368.0</td>\n",
       "      <td>49517.0</td>\n",
       "      <td>18327.0</td>\n",
       "      <td>1149.0</td>\n",
       "      <td>19436.0</td>\n",
       "      <td>92455.0</td>\n",
       "      <td>1584.0</td>\n",
       "      <td>1592.0</td>\n",
       "      <td>...</td>\n",
       "      <td>1685460.0</td>\n",
       "      <td>1685460.0</td>\n",
       "      <td>NaN</td>\n",
       "      <td>1685460.0</td>\n",
       "      <td>1685460.0</td>\n",
       "      <td>1685460.0</td>\n",
       "      <td>1685460.0</td>\n",
       "      <td>1685460.0</td>\n",
       "      <td>1685460.0</td>\n",
       "      <td>NaN</td>\n",
       "    </tr>\n",
       "    <tr>\n",
       "      <th>60+</th>\n",
       "      <td>2849.0</td>\n",
       "      <td>278.0</td>\n",
       "      <td>21650.0</td>\n",
       "      <td>18110.0</td>\n",
       "      <td>9784.0</td>\n",
       "      <td>351.0</td>\n",
       "      <td>7704.0</td>\n",
       "      <td>32398.0</td>\n",
       "      <td>634.0</td>\n",
       "      <td>651.0</td>\n",
       "      <td>...</td>\n",
       "      <td>1685460.0</td>\n",
       "      <td>1685460.0</td>\n",
       "      <td>NaN</td>\n",
       "      <td>1685460.0</td>\n",
       "      <td>1685460.0</td>\n",
       "      <td>1685460.0</td>\n",
       "      <td>1685460.0</td>\n",
       "      <td>1685460.0</td>\n",
       "      <td>1685460.0</td>\n",
       "      <td>NaN</td>\n",
       "    </tr>\n",
       "  </tbody>\n",
       "</table>\n",
       "<p>6 rows × 138 columns</p>\n",
       "</div>"
      ],
      "text/plain": [
       "                                            Total  \\\n",
       "Type      Bankruptcy or Sudden change in Economic   \n",
       "Age_group                                           \n",
       "0-100+                                        NaN   \n",
       "0-14                                        107.0   \n",
       "15-29                                      5796.0   \n",
       "30-44                                     13582.0   \n",
       "45-59                                     10421.0   \n",
       "60+                                        2849.0   \n",
       "\n",
       "                                                          \\\n",
       "Type      Bankruptcy or Sudden change in Economic Status   \n",
       "Age_group                                                  \n",
       "0-100+                                               NaN   \n",
       "0-14                                                17.0   \n",
       "15-29                                              469.0   \n",
       "30-44                                             1093.0   \n",
       "45-59                                              798.0   \n",
       "60+                                                278.0   \n",
       "\n",
       "                                                                           \\\n",
       "Type      By Consuming Insecticides By Consuming Other Poison By Drowning   \n",
       "Age_group                                                                   \n",
       "0-100+                          NaN                       NaN         NaN   \n",
       "0-14                         4980.0                    4330.0      4825.0   \n",
       "15-29                       99949.0                   80860.0     32457.0   \n",
       "30-44                       92554.0                   78361.0     31318.0   \n",
       "45-59                       56368.0                   49517.0     18327.0   \n",
       "60+                         21650.0                   18110.0      9784.0   \n",
       "\n",
       "                                                           \\\n",
       "Type      By Fire-Arms By Fire/Self Immolation By Hanging   \n",
       "Age_group                                                   \n",
       "0-100+             NaN                     NaN        NaN   \n",
       "0-14             178.0                  2506.0     7292.0   \n",
       "15-29           2355.0                 54902.0   169622.0   \n",
       "30-44           2261.0                 43458.0   159188.0   \n",
       "45-59           1149.0                 19436.0    92455.0   \n",
       "60+              351.0                  7704.0    32398.0   \n",
       "\n",
       "                                                                    ...  \\\n",
       "Type      By Jumping from (Building) By Jumping from (Other sites)  ...   \n",
       "Age_group                                                           ...   \n",
       "0-100+                           NaN                           NaN  ...   \n",
       "0-14                           243.0                         298.0  ...   \n",
       "15-29                         2459.0                        2659.0  ...   \n",
       "30-44                         2951.0                        2927.0  ...   \n",
       "45-59                         1584.0                        1592.0  ...   \n",
       "60+                            634.0                         651.0  ...   \n",
       "\n",
       "                    Year                                               \\\n",
       "Type      Retired Person Self-employed (Business activity)  Seperated   \n",
       "Age_group                                                               \n",
       "0-100+               NaN                               NaN  1829928.0   \n",
       "0-14           1685460.0                         1685460.0        NaN   \n",
       "15-29          1685460.0                         1685460.0        NaN   \n",
       "30-44          1685460.0                         1685460.0        NaN   \n",
       "45-59          1685460.0                         1685460.0        NaN   \n",
       "60+            1685460.0                         1685460.0        NaN   \n",
       "\n",
       "                                                             \\\n",
       "Type      Service (Government) Service (Private)    Student   \n",
       "Age_group                                                     \n",
       "0-100+                     NaN               NaN        NaN   \n",
       "0-14                 1685460.0         1685460.0  1685460.0   \n",
       "15-29                1685460.0         1685460.0  1685460.0   \n",
       "30-44                1685460.0         1685460.0  1685460.0   \n",
       "45-59                1685460.0         1685460.0  1685460.0   \n",
       "60+                  1685460.0         1685460.0  1685460.0   \n",
       "\n",
       "                                                                              \n",
       "Type      Suspected/Illicit Relation Unemployed Unemployment Widowed/Widower  \n",
       "Age_group                                                                     \n",
       "0-100+                           NaN        NaN          NaN       1829928.0  \n",
       "0-14                       1685460.0  1685460.0    1685460.0             NaN  \n",
       "15-29                      1685460.0  1685460.0    1685460.0             NaN  \n",
       "30-44                      1685460.0  1685460.0    1685460.0             NaN  \n",
       "45-59                      1685460.0  1685460.0    1685460.0             NaN  \n",
       "60+                        1685460.0  1685460.0    1685460.0             NaN  \n",
       "\n",
       "[6 rows x 138 columns]"
      ]
     },
     "execution_count": 10,
     "metadata": {},
     "output_type": "execute_result"
    }
   ],
   "source": [
    "Pivot_Table"
   ]
  },
  {
   "cell_type": "code",
   "execution_count": 11,
   "id": "e9bf181e-bfc3-493f-a98b-c98eb92ff6fd",
   "metadata": {},
   "outputs": [
    {
     "name": "stderr",
     "output_type": "stream",
     "text": [
      "/tmp/ipykernel_1111/3334373182.py:1: FutureWarning: The default value of numeric_only in DataFrameGroupBy.sum is deprecated. In a future version, numeric_only will default to False. Either specify numeric_only or select only columns which should be valid for the function.\n",
      "  suicide.groupby('Age_group').sum()\n"
     ]
    },
    {
     "data": {
      "text/html": [
       "<div>\n",
       "<style scoped>\n",
       "    .dataframe tbody tr th:only-of-type {\n",
       "        vertical-align: middle;\n",
       "    }\n",
       "\n",
       "    .dataframe tbody tr th {\n",
       "        vertical-align: top;\n",
       "    }\n",
       "\n",
       "    .dataframe thead th {\n",
       "        text-align: right;\n",
       "    }\n",
       "</style>\n",
       "<table border=\"1\" class=\"dataframe\">\n",
       "  <thead>\n",
       "    <tr style=\"text-align: right;\">\n",
       "      <th></th>\n",
       "      <th>Year</th>\n",
       "      <th>Total</th>\n",
       "    </tr>\n",
       "    <tr>\n",
       "      <th>Age_group</th>\n",
       "      <th></th>\n",
       "      <th></th>\n",
       "    </tr>\n",
       "  </thead>\n",
       "  <tbody>\n",
       "    <tr>\n",
       "      <th>0-100+</th>\n",
       "      <td>23789064</td>\n",
       "      <td>8735586</td>\n",
       "    </tr>\n",
       "    <tr>\n",
       "      <th>0-14</th>\n",
       "      <td>90346704</td>\n",
       "      <td>98410</td>\n",
       "    </tr>\n",
       "    <tr>\n",
       "      <th>15-29</th>\n",
       "      <td>90740018</td>\n",
       "      <td>1534037</td>\n",
       "    </tr>\n",
       "    <tr>\n",
       "      <th>30-44</th>\n",
       "      <td>90679742</td>\n",
       "      <td>1471599</td>\n",
       "    </tr>\n",
       "    <tr>\n",
       "      <th>45-59</th>\n",
       "      <td>90585456</td>\n",
       "      <td>885177</td>\n",
       "    </tr>\n",
       "    <tr>\n",
       "      <th>60+</th>\n",
       "      <td>90440996</td>\n",
       "      <td>346925</td>\n",
       "    </tr>\n",
       "  </tbody>\n",
       "</table>\n",
       "</div>"
      ],
      "text/plain": [
       "               Year    Total\n",
       "Age_group                   \n",
       "0-100+     23789064  8735586\n",
       "0-14       90346704    98410\n",
       "15-29      90740018  1534037\n",
       "30-44      90679742  1471599\n",
       "45-59      90585456   885177\n",
       "60+        90440996   346925"
      ]
     },
     "execution_count": 11,
     "metadata": {},
     "output_type": "execute_result"
    }
   ],
   "source": [
    "suicide.groupby('Age_group').sum()"
   ]
  },
  {
   "cell_type": "code",
   "execution_count": 57,
   "id": "34232c1e-2bff-4109-991c-531036331c69",
   "metadata": {},
   "outputs": [
    {
     "data": {
      "text/plain": [
       "State        0\n",
       "Year         0\n",
       "Type_code    0\n",
       "Type         0\n",
       "Gender       0\n",
       "Age_group    0\n",
       "Total        0\n",
       "dtype: int64"
      ]
     },
     "execution_count": 57,
     "metadata": {},
     "output_type": "execute_result"
    }
   ],
   "source": [
    "suicide.isnull().sum()"
   ]
  },
  {
   "cell_type": "markdown",
   "id": "15ca68c5-7ea5-4e49-88ae-45892767d086",
   "metadata": {},
   "source": [
    "# No null value in this Data"
   ]
  },
  {
   "cell_type": "code",
   "execution_count": 60,
   "id": "35871472-76a1-4262-8b88-73dc7e820173",
   "metadata": {},
   "outputs": [
    {
     "data": {
      "text/plain": [
       "array(['Illness (Aids/STD)', 'Bankruptcy or Sudden change in Economic',\n",
       "       'Cancellation/Non-Settlement of Marriage',\n",
       "       'Physical Abuse (Rape/Incest Etc.)', 'Dowry Dispute',\n",
       "       'Family Problems', 'Ideological Causes/Hero Worshipping',\n",
       "       'Other Prolonged Illness', 'Property Dispute',\n",
       "       'Fall in Social Reputation', 'Illegitimate Pregnancy',\n",
       "       'Failure in Examination', 'Insanity/Mental Illness',\n",
       "       'Love Affairs', 'Professional/Career Problem', 'Divorce',\n",
       "       'Drug Abuse/Addiction', 'Not having Children(Barrenness/Impotency',\n",
       "       'Causes Not known', 'Unemployment',\n",
       "       'Other Causes (Please Specity)', 'Poverty', 'Death of Dear Person',\n",
       "       'Cancer', 'Suspected/Illicit Relation', 'Paralysis', 'Diploma',\n",
       "       'No Education', 'Post Graduate and Above', 'Middle', 'Graduate',\n",
       "       'Hr. Secondary/Intermediate/Pre-Universit', 'Primary',\n",
       "       'Matriculate/Secondary', 'By Consuming Insecticides', 'By Hanging',\n",
       "       'By Jumping from (Other sites)', 'By touching electric wires',\n",
       "       'By Machine', 'By Fire/Self Immolation',\n",
       "       'By Jumping off Moving Vehicles/Trains',\n",
       "       'By Other means (please specify)', 'By Self Infliction of injury',\n",
       "       'By Over Alcoholism', 'By Consuming Other Poison',\n",
       "       'By coming under running vehicles/trains',\n",
       "       'By Overdose of sleeping pills', 'By Jumping from (Building)',\n",
       "       'By Drowning', 'By Fire-Arms', 'Retired Person', 'Unemployed',\n",
       "       'Public Sector Undertaking', 'Service (Private)', 'House Wife',\n",
       "       'Self-employed (Business activity)', 'Professional Activity',\n",
       "       'Student', 'Others (Please Specify)',\n",
       "       'Farming/Agriculture Activity', 'Service (Government)', 'Married',\n",
       "       'Seperated', 'Widowed/Widower', 'Divorcee', 'Never Married',\n",
       "       'Bankruptcy or Sudden change in Economic Status',\n",
       "       'Not having Children (Barrenness/Impotency', 'By Other means'],\n",
       "      dtype=object)"
      ]
     },
     "execution_count": 60,
     "metadata": {},
     "output_type": "execute_result"
    }
   ],
   "source": [
    "suicide['Type'].unique()"
   ]
  },
  {
   "cell_type": "code",
   "execution_count": null,
   "id": "8db6da5a-a306-446a-be99-15a293cc958f",
   "metadata": {},
   "outputs": [],
   "source": [
    "suicide['State'].unique()"
   ]
  },
  {
   "cell_type": "code",
   "execution_count": null,
   "id": "00348ddd-838c-4512-b9c8-8b1041d3e695",
   "metadata": {},
   "outputs": [],
   "source": []
  },
  {
   "cell_type": "code",
   "execution_count": null,
   "id": "89da41d0-589f-46e8-9e72-64f194c0df99",
   "metadata": {},
   "outputs": [],
   "source": []
  },
  {
   "cell_type": "code",
   "execution_count": 5,
   "id": "3667b26d-3bcf-4baf-a003-229f66f88518",
   "metadata": {},
   "outputs": [],
   "source": [
    "Year_Wise_Suicide_Data = suicide.groupby('Year')['Total'].sum()"
   ]
  },
  {
   "cell_type": "code",
   "execution_count": 6,
   "id": "853cfe05-dd34-4996-9768-926f57497386",
   "metadata": {},
   "outputs": [
    {
     "data": {
      "text/plain": [
       "Year\n",
       "2001     976464\n",
       "2002     993648\n",
       "2003     997622\n",
       "2004    1023137\n",
       "2005    1025201\n",
       "2006    1062991\n",
       "2007    1103667\n",
       "2008    1125082\n",
       "2009    1144033\n",
       "2010    1211322\n",
       "2011    1219499\n",
       "2012    1189068\n",
       "Name: Total, dtype: int64"
      ]
     },
     "execution_count": 6,
     "metadata": {},
     "output_type": "execute_result"
    }
   ],
   "source": [
    "Year_Wise_Suicide_Data"
   ]
  },
  {
   "cell_type": "code",
   "execution_count": 11,
   "id": "507c2db5-f9a1-4b23-ba0e-59e064c04ebb",
   "metadata": {},
   "outputs": [
    {
     "data": {
      "text/plain": [
       "[Text(0.5, 1.0, 'Total Suicides Per Year')]"
      ]
     },
     "execution_count": 11,
     "metadata": {},
     "output_type": "execute_result"
    },
    {
     "data": {
      "image/png": "[encoded data removed]",
      "text/plain": [
       "<Figure size 640x480 with 1 Axes>"
      ]
     },
     "metadata": {},
     "output_type": "display_data"
    }
   ],
   "source": [
    "sns.barplot(x=Year_Wise_Suicide_Data.index,y=Year_Wise_Suicide_Data,data=suicide).set(title='Total Suicides Per Year')"
   ]
  },
  {
   "cell_type": "markdown",
   "id": "d97ea4d3-b8a1-42bb-a512-906e92c75118",
   "metadata": {},
   "source": [
    "# Most number of suicide was committed in year 2010 and 2011."
   ]
  },
  {
   "cell_type": "code",
   "execution_count": 21,
   "id": "a986b2d2-4a7b-4744-aebe-0a3d6d2f3f40",
   "metadata": {},
   "outputs": [],
   "source": [
    "Gender_Wise = suicide.groupby('Gender')['Total'].sum()"
   ]
  },
  {
   "cell_type": "code",
   "execution_count": 22,
   "id": "3e510377-c0cc-4ead-939a-304ff5cdcccc",
   "metadata": {},
   "outputs": [
    {
     "data": {
      "text/plain": [
       "Gender\n",
       "Female    4702974\n",
       "Male      8368760\n",
       "Name: Total, dtype: int64"
      ]
     },
     "execution_count": 22,
     "metadata": {},
     "output_type": "execute_result"
    }
   ],
   "source": [
    "Gender_Wise"
   ]
  },
  {
   "cell_type": "code",
   "execution_count": 29,
   "id": "58a0fff1-bfda-4091-9228-10a5539d35d2",
   "metadata": {},
   "outputs": [
    {
     "data": {
      "text/plain": [
       "([<matplotlib.patches.Wedge at 0x7fa5c37f99f0>,\n",
       "  <matplotlib.patches.Wedge at 0x7fa5c37f9e70>],\n",
       " [Text(0.4690389199000483, 0.9949886891914884, 'Females'),\n",
       "  Text(-0.46903901305761103, -0.9949886452768908, 'Males')])"
      ]
     },
     "execution_count": 29,
     "metadata": {},
     "output_type": "execute_result"
    },
    {
     "data": {
      "image/png": "[encoded data removed]",
      "text/plain": [
       "<Figure size 640x480 with 1 Axes>"
      ]
     },
     "metadata": {},
     "output_type": "display_data"
    }
   ],
   "source": [
    "plt.pie(Gender_Wise,labels=['Females','Males'])"
   ]
  },
  {
   "cell_type": "markdown",
   "id": "cc9aa022-e069-4cbe-8d61-1b1d52959ee5",
   "metadata": {},
   "source": [
    "# Males committed sucides more than Females"
   ]
  },
  {
   "cell_type": "code",
   "execution_count": 51,
   "id": "e63f4737-f2d9-4696-86c6-c9be59540c31",
   "metadata": {},
   "outputs": [],
   "source": [
    "States_Wise = suicide.groupby('State')['Total'].sum().sort_values(ascending=False)"
   ]
  },
  {
   "cell_type": "code",
   "execution_count": 52,
   "id": "229f21cb-531e-4687-9598-845a0adf0574",
   "metadata": {},
   "outputs": [
    {
     "data": {
      "text/plain": [
       "State\n",
       "Total (States)       2858026\n",
       "Maharashtra           901945\n",
       "West Bengal           849936\n",
       "Tamil Nadu            818691\n",
       "Andhra Pradesh        814059\n",
       "Karnataka             734825\n",
       "Kerala                538946\n",
       "Madhya Pradesh        451535\n",
       "Gujarat               330858\n",
       "Chhattisgarh          302354\n",
       "Odisha                267234\n",
       "Rajasthan             255134\n",
       "Uttar Pradesh         233352\n",
       "Assam                 172276\n",
       "Haryana               147176\n",
       "Delhi (Ut)             84272\n",
       "Total (Uts)            53836\n",
       "Jharkhand              49720\n",
       "Punjab                 46350\n",
       "Bihar                  46214\n",
       "Tripura                45965\n",
       "Puducherry             32144\n",
       "Himachal Pradesh       26562\n",
       "Uttarakhand            18496\n",
       "Goa                    17363\n",
       "Jammu & Kashmir        14821\n",
       "Sikkim                  9606\n",
       "A & N Islands           8109\n",
       "Arunachal Pradesh       6633\n",
       "Meghalaya               5415\n",
       "Chandigarh              5164\n",
       "Mizoram                 4154\n",
       "D & N Haveli            3430\n",
       "Manipur                 2102\n",
       "Nagaland                1728\n",
       "Daman & Diu             1391\n",
       "Lakshadweep               50\n",
       "Name: Total, dtype: int64"
      ]
     },
     "execution_count": 52,
     "metadata": {},
     "output_type": "execute_result"
    }
   ],
   "source": [
    "State_Wise"
   ]
  },
  {
   "cell_type": "code",
   "execution_count": null,
   "id": "a671d3d6-271b-43c4-bb74-7b536aed86fd",
   "metadata": {},
   "outputs": [],
   "source": []
  },
  {
   "cell_type": "code",
   "execution_count": null,
   "id": "ea096af6-1275-44aa-be39-6b55bc020da5",
   "metadata": {},
   "outputs": [],
   "source": []
  },
  {
   "cell_type": "code",
   "execution_count": null,
   "id": "e25fa3cb-588e-41d4-983e-61a9a5c0b220",
   "metadata": {},
   "outputs": [],
   "source": []
  }
 ],
 "metadata": {
  "kernelspec": {
   "display_name": "Python 3 (ipykernel)",
   "language": "python",
   "name": "python3"
  },
  "language_info": {
   "codemirror_mode": {
    "name": "ipython",
    "version": 3
   },
   "file_extension": ".py",
   "mimetype": "text/x-python",
   "name": "python",
   "nbconvert_exporter": "python",
   "pygments_lexer": "ipython3",
   "version": "3.10.6"
  }
 },
 "nbformat": 4,
 "nbformat_minor": 5
}
